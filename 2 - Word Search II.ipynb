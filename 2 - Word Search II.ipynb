{
 "cells": [
  {
   "cell_type": "markdown",
   "metadata": {},
   "source": [
    "# Word Search II"
   ]
  },
  {
   "cell_type": "markdown",
   "metadata": {},
   "source": [
    "Given a 2D board and a list of words from the dictionary, find all words in the board.\n",
    "\n",
    "Each word must be constructed from letters of sequentially adjacent cell, where \"adjacent\" cells are those horizontally or vertically neighboring. The same letter cell may not be used more than once in a word.\n",
    "\n",
    "**Example:**\n",
    "\n",
    "- Input: \n",
    "    \n",
    "        words = [\"oath\",\"pea\",\"eat\",\"rain\"] and board =\n",
    "        [\n",
    "          ['o','a','a','n'],\n",
    "          ['e','t','a','e'],\n",
    "          ['i','h','k','r'],\n",
    "          ['i','f','l','v']\n",
    "        ]\n",
    "\n",
    "- Output: \n",
    "\n",
    "          [\"eat\",\"oath\"]\n",
    "\n",
    "**Note:**\n",
    "\n",
    "    You may assume that all inputs are consist of lowercase letters a-z."
   ]
  },
  {
   "cell_type": "code",
   "execution_count": 1,
   "metadata": {},
   "outputs": [],
   "source": [
    "class TrieNode(object):\n",
    "    # Initialize your data structure here.\n",
    "    def __init__(self):\n",
    "        self.is_str = False\n",
    "        self.leaves = {}\n",
    "\n",
    "    # Inserts a word into the trie.\n",
    "    def insert(self, word):\n",
    "        current = self\n",
    "        for c in word:\n",
    "            if not c in current.leaves:\n",
    "                current.leaves[c] = TrieNode()\n",
    "            current = current.leaves[c]\n",
    "        current.is_str = True\n",
    "\n",
    "\n",
    "class Solution(object):\n",
    "    def findWords(self, board, words):\n",
    "        \"\"\"\n",
    "        :type board: List[List[str]]\n",
    "        :type words: List[str]\n",
    "        :rtype: List[str]\n",
    "        \"\"\"\n",
    "        Lookup = [[False for j in range(len(board[0]))] for i in range(len(board))]\n",
    "        res = {}\n",
    "        trie = TrieNode()\n",
    "        \n",
    "        for word in words:\n",
    "            trie.insert(word)\n",
    "            \n",
    "        for i in range(len(board)):\n",
    "            for j in range(len(board[0])):\n",
    "                if self.findallWords(board, trie, 0, i, j, Lookup, [], res):\n",
    "                    return True\n",
    "        \n",
    "        return list(res.keys())\n",
    "    \n",
    "    def findallWords(self, board, trie, cur, i, j, Lookup, currentWord, res):\n",
    "        if not trie or i < 0 or i >= len(board) or j < 0 or j >= len(board[0]) or Lookup[i][j]:\n",
    "            return\n",
    "        \n",
    "        if board[i][j] not in trie.leaves:\n",
    "            return\n",
    "        \n",
    "        currentWord.append(board[i][j])\n",
    "        nextNode = trie.leaves[board[i][j]]\n",
    "        if nextNode.is_str:\n",
    "            res[\"\".join(currentWord)] = True\n",
    "        \n",
    "        Lookup[i][j] = True\n",
    "        self.findallWords(board, nextNode, cur + 1, i + 1, j, Lookup, currentWord, res)\n",
    "        self.findallWords(board, nextNode, cur + 1, i - 1, j, Lookup, currentWord, res)\n",
    "        self.findallWords(board, nextNode, cur + 1, i, j + 1, Lookup, currentWord, res)\n",
    "        self.findallWords(board, nextNode, cur + 1, i, j - 1, Lookup, currentWord, res)     \n",
    "        Lookup[i][j] = False\n",
    "        currentWord.pop()\n",
    "        "
   ]
  },
  {
   "cell_type": "markdown",
   "metadata": {},
   "source": [
    "### TestCase"
   ]
  },
  {
   "cell_type": "code",
   "execution_count": 2,
   "metadata": {},
   "outputs": [
    {
     "data": {
      "text/plain": [
       "['oath', 'eat']"
      ]
     },
     "execution_count": 2,
     "metadata": {},
     "output_type": "execute_result"
    }
   ],
   "source": [
    "sol1 = Solution()\n",
    "d = sol1.findWords([[\"o\",\"a\",\"a\",\"n\"],[\"e\",\"t\",\"a\",\"e\"],[\"i\",\"h\",\"k\",\"r\"],[\"i\",\"f\",\"l\",\"v\"]],\n",
    "                   [\"oath\",\"pea\",\"eat\",\"rain\"])\n",
    "d"
   ]
  },
  {
   "cell_type": "code",
   "execution_count": null,
   "metadata": {},
   "outputs": [],
   "source": []
  }
 ],
 "metadata": {
  "kernelspec": {
   "display_name": "Python 3",
   "language": "python",
   "name": "python3"
  },
  "language_info": {
   "codemirror_mode": {
    "name": "ipython",
    "version": 3
   },
   "file_extension": ".py",
   "mimetype": "text/x-python",
   "name": "python",
   "nbconvert_exporter": "python",
   "pygments_lexer": "ipython3",
   "version": "3.6.5"
  }
 },
 "nbformat": 4,
 "nbformat_minor": 2
}
